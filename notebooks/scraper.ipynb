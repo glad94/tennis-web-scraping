{
 "cells": [
  {
   "cell_type": "markdown",
   "metadata": {},
   "source": [
    "# ATP Website and Others Scraper"
   ]
  },
  {
   "cell_type": "code",
   "execution_count": 1,
   "metadata": {},
   "outputs": [],
   "source": [
    "import numpy as np\n",
    "\n",
    "import requests\n",
    "from bs4 import BeautifulSoup\n",
    "from selenium import webdriver\n",
    "# headers = {'User-Agent': \n",
    "#            'Mozilla/5.0 (X11; Linux x86_64) AppleWebKit/537.36 (KHTML, like Gecko) Chrome/47.0.2526.106 Safari/537.36'} \n",
    "import re\n",
    "import json\n",
    "import pandas as pd\n",
    "\n",
    "from selenium.webdriver.firefox.service import Service as FirefoxService\n",
    "from webdriver_manager.firefox import GeckoDriverManager\n",
    "#from webdriver_manager.chrome import ChromeDriverManager\n",
    "\n",
    "from selenium.webdriver.common.by import By\n",
    "from selenium.webdriver.firefox.options import Options"
   ]
  },
  {
   "cell_type": "code",
   "execution_count": 117,
   "metadata": {},
   "outputs": [],
   "source": [
    "# Setting selenium options\n",
    "options = Options()\n",
    "options.headless = False"
   ]
  },
  {
   "cell_type": "code",
   "execution_count": 118,
   "metadata": {},
   "outputs": [
    {
     "name": "stderr",
     "output_type": "stream",
     "text": [
      "[WDM] - Downloading: 19.0kB [00:00, 9.33MB/s]                   \n",
      "[WDM] - Downloading: 19.0kB [00:00, 19.5MB/s]                   \n",
      "[WDM] - Downloading: 100%|██████████| 1.58M/1.58M [00:00<00:00, 4.82MB/s]\n"
     ]
    }
   ],
   "source": [
    "service = FirefoxService(executable_path=GeckoDriverManager().install())"
   ]
  },
  {
   "cell_type": "code",
   "execution_count": 119,
   "metadata": {},
   "outputs": [],
   "source": [
    "driver = webdriver.Firefox(service=service, options=options)\n",
    "#driver = webdriver.Chrome(ChromeDriverManager().install())"
   ]
  },
  {
   "cell_type": "markdown",
   "metadata": {},
   "source": [
    "### Create a Match Info DF per Player"
   ]
  },
  {
   "cell_type": "code",
   "execution_count": null,
   "metadata": {},
   "outputs": [],
   "source": [
    "url = #Player Page\n",
    "driver.get(url)"
   ]
  },
  {
   "cell_type": "code",
   "execution_count": 221,
   "metadata": {},
   "outputs": [],
   "source": [
    "tournaments = driver.find_elements(By.XPATH, \"//div[@class='activity-tournament-table']\")\n",
    "\n",
    "df_list = []\n",
    "\n",
    "for tourn in tournaments[:]:\n",
    "    # Tournament \n",
    "    info = tourn.find_elements(By.TAG_NAME, \"table\")[0]\n",
    "    # Tournament Info\n",
    "    if len(info.text.split('\\n')) != 9:\n",
    "        continue\n",
    "    else:\n",
    "        tourn_name, tourn_loc, tourn_dates, tourn_size, tourn_surf, _ , tourn_prize,_,_ = info.text.split('\\n')\n",
    "\n",
    "    # Match and Opponent Info\n",
    "    # Elements containing row info of each match\n",
    "    matches = tourn.find_elements(By.TAG_NAME, \"table\")[2]\n",
    "    \n",
    "    # List of Opponent Names\n",
    "    match_opp = matches.text.split('\\n')[2::3]\n",
    "    # Find all indexes within the list that correspond to \"Bye\"\n",
    "    bye_indices = [i for i, x in enumerate(match_opp) if x == \"Bye\"]\n",
    "    \n",
    "    # Contains Match Round and Opp Rank per list item e.g. Final 2\n",
    "    match_round_rank = matches.text.split('\\n')[1::3]\n",
    "    # Remove any round info that corresponds to a \"Bye\" row\n",
    "    for ind in bye_indices[::-1]:\n",
    "        del match_round_rank[ind]\n",
    "    match_round = [' '.join(x.split(' ')[:-1]) for x in match_round_rank] \n",
    "    opp_ranks = [x.split(' ')[-1] for x in match_round_rank] \n",
    "\n",
    "    match_score = matches.text.split('\\n')[3::3]\n",
    "    # Reformat Scores from 'W 64 64' to separate outcome 'W' and score '64 64'.\n",
    "    match_result = [x.split(' ')[0] for x in match_score]\n",
    "    match_scores = [\" \".join(x.split(' ')[1:]) for x in match_score]\n",
    "    # Number of Sets\n",
    "    n_sets = [len(x.split(' (RET)')[0].split(' '))  for x in match_scores]\n",
    "    # Match Page Links \n",
    "    match_links = []\n",
    "    for i,match in enumerate(matches.find_elements(By.TAG_NAME, \"tr\")[1:]):\n",
    "        if match_opp[i] == \"Bye\":\n",
    "            pass\n",
    "            #match_links.append(None)\n",
    "        else:\n",
    "            match_links.append(match.find_elements(By.TAG_NAME, \"td\")[4].find_elements(By.TAG_NAME, \"a\")[0].get_attribute(\"href\"))\n",
    "    #match_links = [x.find_elements(By.TAG_NAME, \"td\")[4].find_elements(By.TAG_NAME, \"a\")[0].get_attribute(\"href\") for x in matches.find_elements(By.TAG_NAME, \"tr\")[1:]]\n",
    "    \n",
    "    match_opp = list(filter(('Bye').__ne__, match_opp))\n",
    "\n",
    "    #\n",
    "\n",
    "    df = pd.DataFrame({'Tournament':[tourn_name]*len(match_opp), 'Location':[tourn_loc]*len(match_opp), 'Dates':[tourn_dates]*len(match_opp),\n",
    "     'Draw':[tourn_size]*len(match_opp), 'Surface':[tourn_surf]*len(match_opp), \n",
    "    'Round': match_round, 'Opponent': match_opp, 'Rank': opp_ranks, 'Results': match_result, \n",
    "     'Sets': n_sets, 'Score': match_scores, 'URL': match_links})\n",
    "\n",
    "    df_list.append(df)"
   ]
  },
  {
   "cell_type": "code",
   "execution_count": 230,
   "metadata": {},
   "outputs": [],
   "source": [
    "df_matches = pd.concat(df_list).reset_index(drop=True)"
   ]
  },
  {
   "cell_type": "code",
   "execution_count": 303,
   "metadata": {},
   "outputs": [],
   "source": [
    "df_matches.to_csv('Charlie_2022.csv', header=False)"
   ]
  },
  {
   "cell_type": "markdown",
   "metadata": {},
   "source": [
    "### Retrieve Match Statistics"
   ]
  },
  {
   "cell_type": "code",
   "execution_count": 309,
   "metadata": {},
   "outputs": [],
   "source": [
    "driver.close()"
   ]
  },
  {
   "cell_type": "code",
   "execution_count": 304,
   "metadata": {},
   "outputs": [],
   "source": [
    "url = df_matches.URL.iloc[10]"
   ]
  },
  {
   "cell_type": "code",
   "execution_count": 244,
   "metadata": {},
   "outputs": [],
   "source": [
    "driver.quit() "
   ]
  },
  {
   "cell_type": "code",
   "execution_count": 298,
   "metadata": {},
   "outputs": [
    {
     "data": {
      "text/plain": [
       "('Mackenzie McDonald', 'Carlos Alcaraz')"
      ]
     },
     "execution_count": 298,
     "metadata": {},
     "output_type": "execute_result"
    }
   ],
   "source": [
    "# Return the Left Column Player in the Match Stats Page\n",
    "player_L = ' '.join(driver.find_elements(By.XPATH, \"//div[@class='player-left-name']\")[0].text.split('n'))\n",
    "# Return the Right Column Player in the Match Stats Page\n",
    "player_R = ' '.join(driver.find_elements(By.XPATH, \"//div[@class='player-right-name']\")[0].text.split('n'))\n",
    "player_L, player_R"
   ]
  },
  {
   "cell_type": "code",
   "execution_count": 299,
   "metadata": {},
   "outputs": [
    {
     "data": {
      "text/plain": [
       "('217', '192', '155')"
      ]
     },
     "execution_count": 299,
     "metadata": {},
     "output_type": "execute_result"
    }
   ],
   "source": [
    "# Serve Speeds (km/h)\n",
    "# For \"L\" Player 1\n",
    "serve_max_L, serve1_avg_L, serve2_avg_L = [ x.text.split('\\nkm/h')[0] for x in driver.find_elements(By.XPATH, \"//div[contains(@class, 'speedkmh1')]\")[::2] ]\n",
    "# For \"R\" Player 2\n",
    "serve_max_R, serve1_avg_R, serve2_avg_R = [ x.text.split('\\nkm/h')[0] for x in driver.find_elements(By.XPATH, \"//div[contains(@class, 'speedkmh2')]\")[::2] ]\n",
    "serve_max_R, serve1_avg_R, serve2_avg_R"
   ]
  },
  {
   "cell_type": "code",
   "execution_count": 300,
   "metadata": {},
   "outputs": [],
   "source": [
    "serve_rating, aces, dfs, serve1_p, serve1_w, serve2_w, \\\n",
    "bp_saved, serve_gp, return_rating, ret1_w, ret2_w, bp_con, ret_gp, \\\n",
    "netp_w, winners, ufes, servep_w, retp_w, totp_w = \\\n",
    "[ x.text for x in driver.find_elements(By.XPATH, \"//div[contains(@class, 'player2 non-speed')]\")[::2] ]"
   ]
  },
  {
   "cell_type": "code",
   "execution_count": 278,
   "metadata": {},
   "outputs": [],
   "source": [
    "driver.quit()"
   ]
  },
  {
   "cell_type": "code",
   "execution_count": 312,
   "metadata": {},
   "outputs": [],
   "source": [
    " import time\n",
    " from random import randint"
   ]
  },
  {
   "cell_type": "code",
   "execution_count": 315,
   "metadata": {},
   "outputs": [
    {
     "data": {
      "text/plain": [
       "array(['US Open', 'ATP Masters 1000 Cincinnati',\n",
       "       'ATP Masters 1000 Canada', 'Umag', 'Hamburg', 'Wimbledon',\n",
       "       'Roland Garros', 'ATP Masters 1000 Madrid', 'Barcelona',\n",
       "       'ATP Masters 1000 Monte Carlo', 'ATP Masters 1000 Miami',\n",
       "       'ATP Masters 1000 Indian Wells', 'Rio de Janeiro',\n",
       "       'Australian Open'], dtype=object)"
      ]
     },
     "execution_count": 315,
     "metadata": {},
     "output_type": "execute_result"
    }
   ],
   "source": [
    "df_matches.Tournament.unique()"
   ]
  },
  {
   "cell_type": "code",
   "execution_count": 316,
   "metadata": {},
   "outputs": [],
   "source": [
    "slams = ['US Open', 'Wimbledon', 'Roland Garros', 'Australian Open']"
   ]
  },
  {
   "cell_type": "code",
   "execution_count": 344,
   "metadata": {},
   "outputs": [
    {
     "name": "stderr",
     "output_type": "stream",
     "text": [
      "[WDM] - Downloading: 16.2kB [00:00, 2.37MB/s]                   \n",
      "[WDM] - Downloading: 16.2kB [00:00, 3.31MB/s]                   \n",
      "[WDM] - Downloading: 100%|██████████| 1.42M/1.42M [00:00<00:00, 4.28MB/s]\n",
      "[WDM] - Downloading: 16.2kB [00:00, 4.22MB/s]                   \n",
      "[WDM] - Downloading: 16.2kB [00:00, 4.15MB/s]                   \n",
      "[WDM] - Downloading: 16.2kB [00:00, 5.50MB/s]                   \n",
      "[WDM] - Downloading: 16.2kB [00:00, 5.48MB/s]                   \n",
      "[WDM] - Downloading: 16.2kB [00:00, 6.55MB/s]                   \n",
      "[WDM] - Downloading: 16.2kB [00:00, 7.50MB/s]                   \n",
      "[WDM] - Downloading: 16.2kB [00:00, 5.53MB/s]                   \n",
      "[WDM] - Downloading: 16.2kB [00:00, 3.57MB/s]                   \n",
      "[WDM] - Downloading: 16.2kB [00:00, 5.48MB/s]                   \n",
      "[WDM] - Downloading: 16.2kB [00:00, 3.66MB/s]                   \n",
      "[WDM] - Downloading: 16.2kB [00:00, 4.15MB/s]                   \n",
      "[WDM] - Downloading: 16.2kB [00:00, 6.39MB/s]                   \n",
      "[WDM] - Downloading: 16.2kB [00:00, 4.12MB/s]                   \n",
      "[WDM] - Downloading: 16.2kB [00:00, 2.08MB/s]                   \n",
      "[WDM] - Downloading: 16.2kB [00:00, 4.24MB/s]                   \n",
      "[WDM] - Downloading: 16.2kB [00:00, 4.15MB/s]                   \n",
      "[WDM] - Downloading: 16.2kB [00:00, 5.11MB/s]                   \n",
      "[WDM] - Downloading: 16.2kB [00:00, 5.12MB/s]                   \n",
      "[WDM] - Downloading: 16.2kB [00:00, 4.15MB/s]                   \n",
      "[WDM] - Downloading: 16.2kB [00:00, 4.33MB/s]                   \n",
      "[WDM] - Downloading: 16.2kB [00:00, 3.74MB/s]                   \n",
      "[WDM] - Downloading: 16.2kB [00:00, 5.53MB/s]                   \n",
      "[WDM] - Downloading: 16.2kB [00:00, 8.28MB/s]                   \n",
      "[WDM] - Downloading: 16.2kB [00:00, 5.53MB/s]                   \n"
     ]
    }
   ],
   "source": [
    "serve_maxs = []\n",
    "serve1_avgs = []\n",
    "serve2_avgs = []\n",
    "opps = []\n",
    "for url in df_matches[~df_matches.Tournament.isin(slams)].URL.iloc[:]:\n",
    "\n",
    "    service = FirefoxService(executable_path=GeckoDriverManager().install())\n",
    "    driver = webdriver.Firefox(service=service, options=options)\n",
    "    driver.get(url)\n",
    "\n",
    "    # Return the Left Column Player in the Match Stats Page\n",
    "    player_L = ' '.join(driver.find_elements(By.XPATH, \"//div[@class='player-left-name']\")[0].text.split('\\n'))\n",
    "    # Return the Right Column Player in the Match Stats Page\n",
    "    player_R = ' '.join(driver.find_elements(By.XPATH, \"//div[@class='player-right-name']\")[0].text.split('\\n'))\n",
    "\n",
    "    if player_L == 'Carlos Alcaraz':\n",
    "        p_num = '1'\n",
    "        opp = player_R\n",
    "    else:\n",
    "        p_num = '2'\n",
    "        opp = player_L\n",
    "\n",
    "\n",
    "    # Get Service Stats\n",
    "    try:\n",
    "        serve_max, serve1_avg, serve2_avg = [ x.text.split('\\nkm/h')[0] for x in driver.find_elements(By.XPATH, f\"//div[contains(@class, 'speedkmh{p_num}')]\")[::2] ]\n",
    "    except:\n",
    "        time.sleep(5)\n",
    "        try:\n",
    "            serve_max, serve1_avg, serve2_avg = [ x.text.split('\\nkm/h')[0] for x in driver.find_elements(By.XPATH, f\"//div[contains(@class, 'speedkmh{p_num}')]\")[::2] ]\n",
    "        except:\n",
    "            continue\n",
    "        \n",
    "    serve_maxs.append(serve_max)\n",
    "    serve1_avgs.append(serve1_avg)\n",
    "    serve2_avgs.append(serve2_avg)\n",
    "    opps.append(opp)\n",
    "\n",
    "    driver.quit()\n",
    "\n",
    "    time.sleep(randint(1,3))\n"
   ]
  },
  {
   "cell_type": "code",
   "execution_count": 336,
   "metadata": {},
   "outputs": [],
   "source": [
    "serve_max, serve1_avg, serve2_avg = [ x.text.split('\\nkm/h')[0] for x in driver.find_elements(By.XPATH, f\"//div[contains(@class, 'speedkmh{p_num}')]\")[::2] ]"
   ]
  },
  {
   "cell_type": "code",
   "execution_count": 348,
   "metadata": {},
   "outputs": [
    {
     "data": {
      "text/plain": [
       "['Cameron Norrie',\n",
       " 'Marin Cilic',\n",
       " 'Mackenzie McDonald',\n",
       " 'Tommy Paul',\n",
       " 'Alexander Zverev',\n",
       " 'Novak Djokovic',\n",
       " 'Sebastian Korda',\n",
       " 'Casper Ruud',\n",
       " 'Hubert Hurkacz',\n",
       " 'Miomir Kecmanovic',\n",
       " 'Stefanos Tsitsipas',\n",
       " 'Marin Cilic',\n",
       " 'Marton Fucsovics',\n",
       " 'Rafael Nadal',\n",
       " 'Cameron Norrie',\n",
       " 'Gael Monfils',\n",
       " 'Roberto Bautista Agut',\n",
       " 'Mackenzie McDonald']"
      ]
     },
     "execution_count": 348,
     "metadata": {},
     "output_type": "execute_result"
    }
   ],
   "source": [
    "opps"
   ]
  },
  {
   "cell_type": "code",
   "execution_count": 350,
   "metadata": {},
   "outputs": [],
   "source": [
    "import matplotlib.pyplot as plt"
   ]
  },
  {
   "cell_type": "code",
   "execution_count": 361,
   "metadata": {},
   "outputs": [
    {
     "data": {
      "text/plain": [
       "[<matplotlib.lines.Line2D at 0x24bdf6d4340>]"
      ]
     },
     "execution_count": 361,
     "metadata": {},
     "output_type": "execute_result"
    },
    {
     "data": {
      "image/png": "[encoded data removed]",
      "text/plain": [
       "<Figure size 432x288 with 1 Axes>"
      ]
     },
     "metadata": {
      "needs_background": "light"
     },
     "output_type": "display_data"
    }
   ],
   "source": [
    "plt.plot(np.arange(len(serve1_avgs)), [ int(x) for x in serve1_avgs ])\n",
    "plt.plot(np.arange(len(serve1_avgs)), [ int(x) for x in serve2_avgs ])"
   ]
  },
  {
   "cell_type": "code",
   "execution_count": 363,
   "metadata": {},
   "outputs": [
    {
     "data": {
      "text/plain": [
       "18"
      ]
     },
     "execution_count": 363,
     "metadata": {},
     "output_type": "execute_result"
    }
   ],
   "source": [
    "len(serve2_avgs)"
   ]
  },
  {
   "cell_type": "code",
   "execution_count": 367,
   "metadata": {},
   "outputs": [
    {
     "data": {
      "text/plain": [
       "[<matplotlib.lines.Line2D at 0x24bdf74a7c0>]"
      ]
     },
     "execution_count": 367,
     "metadata": {},
     "output_type": "execute_result"
    },
    {
     "data": {
      "image/png": "[encoded data removed]",
      "text/plain": [
       "<Figure size 432x288 with 1 Axes>"
      ]
     },
     "metadata": {
      "needs_background": "light"
     },
     "output_type": "display_data"
    }
   ],
   "source": [
    "plt.plot(np.arange(len(serve1_avg_gs)), [ int(x) for x in serve1_avg_gs ])\n",
    "plt.plot(np.arange(len(serve1_avg_gs)), [ int(x) for x in serve2_avg_gs ])"
   ]
  },
  {
   "cell_type": "code",
   "execution_count": 365,
   "metadata": {},
   "outputs": [],
   "source": [
    "# Charlie Stats Slams\n",
    "\n",
    "serve_max_gs = [211, 206, 216, 209, 215, 212, 214, 214, 214, 217, 214, 214, 209, 206, 217, 212, 209, 208, 206]\n",
    "serve1_avg_gs = [190, 175, 188, 184, 183, 182, 186, 191, 193, 188, 195, 190, 177, 175, 178, 175, 177, 182, 179]\n",
    "serve2_avg_gs = [153, 148, 151, 156, 153, 160, 152, 156, 161, 156, 154, 159, 154, 148, 151, 153, 151, 148, 150]"
   ]
  },
  {
   "cell_type": "code",
   "execution_count": 390,
   "metadata": {},
   "outputs": [
    {
     "data": {
      "text/plain": [
       "['215',\n",
       " '219',\n",
       " '217',\n",
       " '220',\n",
       " '221',\n",
       " '222',\n",
       " '211',\n",
       " '218',\n",
       " '220',\n",
       " '222',\n",
       " '215',\n",
       " '220',\n",
       " '223',\n",
       " '223',\n",
       " '219',\n",
       " '218',\n",
       " '216',\n",
       " '218']"
      ]
     },
     "execution_count": 390,
     "metadata": {},
     "output_type": "execute_result"
    }
   ],
   "source": [
    "serve_maxs"
   ]
  },
  {
   "cell_type": "code",
   "execution_count": 391,
   "metadata": {},
   "outputs": [],
   "source": [
    "serve_max_all = serve_max_gs[:3]+ serve_maxs[:14]+ serve_max_gs[3:12] + serve_maxs[14:] + serve_max_gs[12:]\n",
    "serve_1s_all = serve1_avg_gs[:3]+ serve1_avgs[:14]+ serve1_avg_gs[3:12] + serve1_avgs[14:] + serve1_avg_gs[12:]\n",
    "serve_2s_all = serve2_avg_gs[:3]+ serve2_avgs[:14]+ serve2_avg_gs[3:12] + serve2_avgs[14:] + serve2_avg_gs[12:]"
   ]
  },
  {
   "cell_type": "code",
   "execution_count": 406,
   "metadata": {},
   "outputs": [],
   "source": [
    "pd.DataFrame({'Max': serve_max_all,'1st_Avg': serve_1s_all,'2_Avg': serve_2s_all}).to_csv(\"Charlie_Serves_2022.csv\", index=False)"
   ]
  },
  {
   "cell_type": "code",
   "execution_count": 396,
   "metadata": {},
   "outputs": [],
   "source": [
    "# Set figure styling elements\n",
    "import matplotlib as mpl\n",
    "\n",
    "mpl.rcParams['axes.spines.bottom'] = False\n",
    "mpl.rcParams['axes.spines.left'] = False\n",
    "mpl.rcParams['axes.spines.right'] = False\n",
    "mpl.rcParams['axes.spines.top'] = False\n",
    "\n",
    "mpl.rcParams['xtick.color'] = 'white'\n",
    "mpl.rcParams['xtick.labelsize'] = 13\n",
    "mpl.rcParams['ytick.color'] = 'white'\n",
    "mpl.rcParams['ytick.labelsize'] = 13\n",
    "\n",
    "mpl.rcParams['axes.labelcolor'] = 'white'\n",
    "mpl.rcParams['axes.labelsize'] = 16\n",
    "\n",
    "mpl.rc('font', family='Arial')"
   ]
  },
  {
   "cell_type": "code",
   "execution_count": 403,
   "metadata": {},
   "outputs": [
    {
     "data": {
      "text/plain": [
       "Text(0, 0.5, 'Speed (Km/h)')"
      ]
     },
     "execution_count": 403,
     "metadata": {},
     "output_type": "execute_result"
    },
    {
     "data": {
      "image/png": "[encoded data removed]",
      "text/plain": [
       "<Figure size 864x576 with 1 Axes>"
      ]
     },
     "metadata": {},
     "output_type": "display_data"
    }
   ],
   "source": [
    "fig, ax = plt.subplots(nrows=1, ncols=1, figsize=(12,8))\n",
    "fig.set_facecolor('#1f1f1f')\n",
    "\n",
    "ax.set_facecolor('#1f1f1f')\n",
    "\n",
    "ax.plot(np.arange(len(serve_max_all)), [ int(x) for x in serve_max_all ], marker='o')\n",
    "ax.plot(np.arange(len(serve_1s_all)), [ int(x) for x in serve_1s_all ], marker='o')\n",
    "ax.plot(np.arange(len(serve_2s_all)), [ int(x) for x in serve_2s_all ], marker='o')\n",
    "\n",
    "ax.set_xticks([0,15,30])\n",
    "ax.set_yticks([150,185,220])\n",
    "\n",
    "ax.set_xlabel(\"Match\")\n",
    "ax.set_ylabel(\"Speed (Km/h)\")"
   ]
  },
  {
   "cell_type": "code",
   "execution_count": 379,
   "metadata": {},
   "outputs": [
    {
     "data": {
      "text/plain": [
       "<matplotlib.collections.PathCollection at 0x24bdf9e4a30>"
      ]
     },
     "execution_count": 379,
     "metadata": {},
     "output_type": "execute_result"
    },
    {
     "data": {
      "image/png": "[encoded data removed]",
      "text/plain": [
       "<Figure size 432x288 with 1 Axes>"
      ]
     },
     "metadata": {
      "needs_background": "light"
     },
     "output_type": "display_data"
    }
   ],
   "source": [
    "fig, ax = plt.subplots(nrows=1, ncols=1, figsize=(12,8))\\\n",
    "fig.set_facecolor('#1f1f1f')\n",
    "ax.set_facecolor('#1f1f1f')\n",
    "ax.plot(np.arange(len(serve_max_all2)), [ int(x) for x in serve_max_all2 ], marker='o', mfc='w', mew=3, ms=10, lw=3, c=\"#1DA2DC\\\")\n",
    "ax.plot(np.arange(len(serve_1s_all2)), [ int(x) for x in serve_1s_all2 ], marker='o', mfc='w', mew=3, ms=10, lw=3, c=\\\"#22AF4B\\\")\n",
    "ax.plot(np.arange(len(serve_2s_all2)), [ int(x) for x in serve_2s_all2 ], marker='o', mfc='w', mew=3, ms=10, lw=3, c=\\\"#EE2524\\\")\n",
    "ax.set_xticks([0,14,29])\n",
    "ax.set_xticklabels([1,15,30])\n",
    "ax.set_yticks([150,185,220])\n",
    "ax.set_xlabel(\\\"Match\\\")\n",
    "ax.set_ylabel(\\\"Km/h\\\")\n",
    "ax.axhline(np.mean([ int(x) for x in serve_max_all2 ]), color='#1DA2DC', alpha=1, zorder=0, ls='--',lw=2)\n",
    "ax.axhline(np.mean([ int(x) for x in serve_1s_all2 ]), color='#22AF4B', alpha=1, zorder=0, ls='--',lw=2)\n",
    "ax.axhline(np.mean([ int(x) for x in serve_2s_all2 ]), color='#EE2524', alpha=1, zorder=0, ls='--',lw=2)\\n\",\n",
    "ax.axvspan(-0.5, 17, facecolor='#1DA2DC', alpha=0.2, zorder=0)\n",
    "ax.axvspan(17, 22, facecolor='#EE573D', alpha=0.2, zorder=0)\n",
    "ax.axvspan(22, 28, facecolor='#91C13E', alpha=0.2, zorder=0)\n",
    "ax.axvspan(28, 36.5, facecolor='#1DA2DC', alpha=0.2, zorder=0)\n",
    "ax.axvline(-0.4, color='#1DA2DC', alpha=1, zorder=0)\n",
    "ax.axvline(17, color='#EE573D', alpha=1, zorder=0)\n",
    "ax.axvline(22, color='#91C13E', alpha=1, zorder=0)\n",
    "ax.axvline(28, color='#1DA2DC', alpha=1, zorder=0)\n",
    "ax.annotate(\\\"Hard Court\\\\nJan-Apr\\\", (0,222), color='w', alpha=1, zorder=0, fontsize=15, weight=\\\"bold\\\")\n",
    "ax.annotate(\\\"Clay\\\\nMay-Jun\\\", (17.5,222), color='w', alpha=1, zorder=0, fontsize=15, weight=\\\"bold\\\")\n",
    "ax.annotate(\\\"Grass\\\\nJun\\\", (22.5,222), color='w', alpha=1, zorder=0, fontsize=15, weight=\\\"bold\\\")\n",
    "ax.annotate(\\\"Hard Court\\\\nAug-Sep\\\", (28.5,222), color='w', alpha=1, zorder=0, fontsize=15, weight=\\\"bold\\\")\n",
    "ax.annotate(f\\\"Avg:\\\\n{int(np.round( np.mean([ int(x) for x in serve_max_all2 ]),0 ))}\\\", (34,212), color='#1DA2DC', alpha=1, zorder=0, fontsize=16, weight=\\\"bold\\\")\n",
    "ax.annotate(f\\\"{int(np.round( np.mean([ int(x) for x in serve_1s_all2 ]),0 ))}\\\", (34,196), color='#22AF4B', alpha=1, zorder=0, fontsize=16, weight=\\\"bold\\\")\n",
    "ax.annotate(f\\\"{int(np.round( np.mean([ int(x) for x in serve_2s_all2 ]),0 ))}\\\", (34,154), color='#EE2524', alpha=1, zorder=0, fontsize=16, weight=\\\"bold\\\")\n",
    "ax.set_xlim(-0.5,36.5)\n",
    "ax.set_ylim(130,230)\n",
    "# You can use the wrapper around the class\\n\",\n",
    "HighlightText(x=0.07, y=0.925,\n",
    "            s=f'<Max>, average <First> and <Second> serve speeds',\n",
    "        highlight_textprops=[{\\\"color\\\": \\\"#1DA2DC\\\"},\n",
    "                            {\\\"color\\\": \\\"#22AF4B\\\"},\n",
    "                            {\\\"color\\\": \\\"#EE2524\\\"}], fontsize=18, color='w',\n",
    "        annotationbbox_kw={'boxcoords': fig.transFigure})\n",
    "fig.suptitle(\\\"Daniil Medvedev | 2022 Season\\\", c='w', weight=\\\"bold\\\", fontsize=24, x=0.07, ha='left')\n",
    "ax.annotate(f\\\"Data: Infosys + IBM\\\", (0.985,0.045), xycoords=\\\"axes fraction\\\", color='w', alpha=0.7, zorder=0, fontsize=13, ha='right')\n",
    "ax.annotate(f\\\"Only Matches with available data\\\", (0.985,0.01), xycoords=\\\"axes fraction\\\", color='w', alpha=0.7, zorder=0, fontsize=13, ha='right')\""
   ]
  },
  {
   "cell_type": "code",
   "execution_count": null,
   "metadata": {},
   "outputs": [],
   "source": [
    "def get_match_stats(url):\n",
    "    "
   ]
  },
  {
   "cell_type": "markdown",
   "metadata": {},
   "source": [
    "### Scraping Charlie's serves"
   ]
  },
  {
   "cell_type": "code",
   "execution_count": 120,
   "metadata": {},
   "outputs": [],
   "source": [
    "url = \"https://www.atptour.com/en/scores/stats-centre/archive/2022/422/MS006?tab=CourtVision\""
   ]
  },
  {
   "cell_type": "code",
   "execution_count": 121,
   "metadata": {},
   "outputs": [],
   "source": [
    "driver.get(url)"
   ]
  },
  {
   "cell_type": "code",
   "execution_count": 11,
   "metadata": {},
   "outputs": [
    {
     "data": {
      "text/plain": [
       "<selenium.webdriver.remote.webelement.WebElement (session=\"d75a1dc2-a4f8-406f-ae6c-398659883628\", element=\"abd62415-4409-4bd9-b0f4-9209207ec8db\")>"
      ]
     },
     "execution_count": 11,
     "metadata": {},
     "output_type": "execute_result"
    }
   ],
   "source": [
    "#driver.find_elements(By.XPATH, \"//div[@data-test='toggle-btn']\")[0]"
   ]
  },
  {
   "cell_type": "code",
   "execution_count": 122,
   "metadata": {},
   "outputs": [],
   "source": [
    "# Click the 2D-view button\n",
    "driver.find_elements(By.XPATH, \"//button[@class='button-wrapper-MC toggle-btn-wrapper first-btn ']\")[0].click()"
   ]
  },
  {
   "cell_type": "code",
   "execution_count": 21,
   "metadata": {},
   "outputs": [],
   "source": [
    "from selenium.webdriver.support.ui import WebDriverWait\n",
    "#from selenium.webdriver.common.by import By\n",
    "from selenium.webdriver.support import expected_conditions as EC"
   ]
  },
  {
   "cell_type": "code",
   "execution_count": 123,
   "metadata": {},
   "outputs": [],
   "source": [
    "# Click on the shot type dropdown then select the required serve stat or other\n",
    "driver.find_elements(By.XPATH, \"//div[@class='select-arrow']\")[-1].click()\n",
    "WebDriverWait(driver, 5).until(EC.element_to_be_clickable((By.XPATH, \"//div[text()='First serve (87)']\"))).click()"
   ]
  },
  {
   "cell_type": "code",
   "execution_count": 125,
   "metadata": {},
   "outputs": [],
   "source": [
    "players_div = driver.find_elements(By.XPATH, \"//div[@class='playersDiv']\")[0]\n",
    "#WebDriverWait(driver, 5).until(EC.element_to_be_clickable((By.XPATH, \"//div[text()='First serve (87)']\"))).click()"
   ]
  },
  {
   "cell_type": "code",
   "execution_count": 126,
   "metadata": {},
   "outputs": [],
   "source": [
    "# Click on Charlie's Name\n",
    "player_button = players_div.find_elements(By.XPATH, \".//span[@class='playerName']\")[1]\n",
    "player_button.click()"
   ]
  },
  {
   "cell_type": "code",
   "execution_count": 347,
   "metadata": {},
   "outputs": [
    {
     "data": {
      "text/plain": [
       "[]"
      ]
     },
     "execution_count": 347,
     "metadata": {},
     "output_type": "execute_result"
    }
   ],
   "source": [
    "\n",
    "driver.find_elements(By.XPATH, \"//*[name()='svg']/*[name()='g'][starts-with(@class, 'court-ball-')]\")"
   ]
  },
  {
   "cell_type": "code",
   "execution_count": 165,
   "metadata": {},
   "outputs": [],
   "source": [
    "import matplotlib.pyplot as plt"
   ]
  },
  {
   "cell_type": "code",
   "execution_count": 327,
   "metadata": {},
   "outputs": [],
   "source": [
    "ball_html = driver.find_element(By.CSS_SELECTOR, '.court-ball-1_13_1_1 > use:nth-child(1)').get_attribute('outerHTML')\n",
    "x, y = float(ball_html.split('<use x=\"')[1].split('\" y=\"')[0]), float(ball_html.split('y=\"')[1].split(\"\\\"\")[0])\n",
    "outcome = ball_html.split('href=\"#')[-1].split(\"\\\"\")[0]"
   ]
  },
  {
   "cell_type": "code",
   "execution_count": null,
   "metadata": {},
   "outputs": [
    {
     "data": {
      "text/plain": [
       "(-226.76264921081884, -127.15087286698778, 'Lost')"
      ]
     },
     "metadata": {},
     "output_type": "display_data"
    }
   ],
   "source": [
    "x,y,outcome"
   ]
  },
  {
   "cell_type": "markdown",
   "metadata": {},
   "source": [
    "#### Can we try to click on each serve location to get the info of speed + rally length"
   ]
  },
  {
   "cell_type": "code",
   "execution_count": 459,
   "metadata": {},
   "outputs": [],
   "source": [
    "# This successfully clicks elements on the top points timeline, which then highlights the related ball-spot on the court.\n",
    "driver.find_element(By.CSS_SELECTOR, \"#point-1_3_4_1 > text:nth-child(2)\").click()"
   ]
  },
  {
   "cell_type": "code",
   "execution_count": 362,
   "metadata": {},
   "outputs": [],
   "source": [
    "# import Action chains \n",
    "from selenium.webdriver.common.action_chains import ActionChains"
   ]
  },
  {
   "cell_type": "code",
   "execution_count": null,
   "metadata": {},
   "outputs": [],
   "source": [
    "find_ball = driver.find_element(By.CSS_SELECTOR, \".court-ball-1_13_1_1\")\n",
    "#find_ball = driver.find_element(By.CSS_SELECTOR, \"#Winner > text:nth-child(2)\")"
   ]
  },
  {
   "cell_type": "code",
   "execution_count": 538,
   "metadata": {},
   "outputs": [
    {
     "data": {
      "text/plain": [
       "{'x': 79, 'y': 1450}"
      ]
     },
     "execution_count": 538,
     "metadata": {},
     "output_type": "execute_result"
    }
   ],
   "source": [
    "driver.find_element(By.CSS_SELECTOR, '.court-ball-1_13_1_1').location"
   ]
  },
  {
   "cell_type": "code",
   "execution_count": 537,
   "metadata": {},
   "outputs": [
    {
     "data": {
      "text/plain": [
       "{'x': 223, 'y': 1369}"
      ]
     },
     "execution_count": 537,
     "metadata": {},
     "output_type": "execute_result"
    }
   ],
   "source": [
    "driver.find_element(By.CSS_SELECTOR, '.court-ball-1_13_1_1 > use:nth-child(1)').location"
   ]
  },
  {
   "cell_type": "code",
   "execution_count": 552,
   "metadata": {},
   "outputs": [
    {
     "data": {
      "text/plain": [
       "''"
      ]
     },
     "execution_count": 552,
     "metadata": {},
     "output_type": "execute_result"
    }
   ],
   "source": [
    "driver.find_element(By.CSS_SELECTOR, \"#Lost > circle:nth-child(1)\").location"
   ]
  },
  {
   "cell_type": "code",
   "execution_count": 525,
   "metadata": {},
   "outputs": [
    {
     "data": {
      "text/plain": [
       "(144, -81)"
      ]
     },
     "execution_count": 525,
     "metadata": {},
     "output_type": "execute_result"
    }
   ],
   "source": [
    "223-79, 1369-1450"
   ]
  },
  {
   "cell_type": "code",
   "execution_count": 557,
   "metadata": {},
   "outputs": [
    {
     "ename": "AssertionError",
     "evalue": "This only currently works in Chromium based browsers",
     "output_type": "error",
     "traceback": [
      "\u001b[1;31m---------------------------------------------------------------------------\u001b[0m",
      "\u001b[1;31mAssertionError\u001b[0m                            Traceback (most recent call last)",
      "\u001b[1;32mc:\\Users\\lgjg1\\Documents\\Random Projects\\Tennis\\Scraping\\scraper.ipynb Cell 58\u001b[0m in \u001b[0;36m<cell line: 1>\u001b[1;34m()\u001b[0m\n\u001b[1;32m----> <a href='vscode-notebook-cell:/c%3A/Users/lgjg1/Documents/Random%20Projects/Tennis/Scraping/scraper.ipynb#Y264sZmlsZQ%3D%3D?line=0'>1</a>\u001b[0m driver\u001b[39m.\u001b[39;49mfind_element(By\u001b[39m.\u001b[39;49mCSS_SELECTOR, \u001b[39m'\u001b[39;49m\u001b[39m.court-ball-1_13_1_1 > use:nth-child(1)\u001b[39;49m\u001b[39m'\u001b[39;49m)\u001b[39m.\u001b[39;49mshadow_root\n",
      "File \u001b[1;32mc:\\Users\\lgjg1\\miniconda3\\envs\\footyenv\\lib\\site-packages\\selenium\\webdriver\\remote\\webelement.py:556\u001b[0m, in \u001b[0;36mWebElement.shadow_root\u001b[1;34m(self)\u001b[0m\n\u001b[0;32m    546\u001b[0m \u001b[39m\"\"\"\u001b[39;00m\n\u001b[0;32m    547\u001b[0m \u001b[39m    Returns a shadow root of the element if there is one or an error. Only works from\u001b[39;00m\n\u001b[0;32m    548\u001b[0m \u001b[39m    Chromium 96 onwards. Previous versions of Chromium based browsers will throw an\u001b[39;00m\n\u001b[1;32m   (...)\u001b[0m\n\u001b[0;32m    553\u001b[0m \u001b[39m      - NoSuchShadowRoot - if no shadow root was attached to element\u001b[39;00m\n\u001b[0;32m    554\u001b[0m \u001b[39m\"\"\"\u001b[39;00m\n\u001b[0;32m    555\u001b[0m browser_main_version \u001b[39m=\u001b[39m \u001b[39mint\u001b[39m(\u001b[39mself\u001b[39m\u001b[39m.\u001b[39m_parent\u001b[39m.\u001b[39mcaps[\u001b[39m\"\u001b[39m\u001b[39mbrowserVersion\u001b[39m\u001b[39m\"\u001b[39m]\u001b[39m.\u001b[39msplit(\u001b[39m\"\u001b[39m\u001b[39m.\u001b[39m\u001b[39m\"\u001b[39m)[\u001b[39m0\u001b[39m])\n\u001b[1;32m--> 556\u001b[0m \u001b[39massert\u001b[39;00m \u001b[39mself\u001b[39m\u001b[39m.\u001b[39m_parent\u001b[39m.\u001b[39mcaps[\u001b[39m\"\u001b[39m\u001b[39mbrowserName\u001b[39m\u001b[39m\"\u001b[39m]\u001b[39m.\u001b[39mlower() \u001b[39mnot\u001b[39;00m \u001b[39min\u001b[39;00m [\u001b[39m\"\u001b[39m\u001b[39mfirefox\u001b[39m\u001b[39m\"\u001b[39m, \u001b[39m\"\u001b[39m\u001b[39msafari\u001b[39m\u001b[39m\"\u001b[39m], \u001b[39m\"\u001b[39m\u001b[39mThis only currently works in Chromium based browsers\u001b[39m\u001b[39m\"\u001b[39m\n\u001b[0;32m    557\u001b[0m \u001b[39massert\u001b[39;00m \u001b[39mnot\u001b[39;00m browser_main_version \u001b[39m<\u001b[39m\u001b[39m=\u001b[39m \u001b[39m95\u001b[39m, \u001b[39mf\u001b[39m\u001b[39m\"\u001b[39m\u001b[39mPlease use Chromium based browsers with version 96 or later. Version used \u001b[39m\u001b[39m{\u001b[39;00m\u001b[39mself\u001b[39m\u001b[39m.\u001b[39m_parent\u001b[39m.\u001b[39mcaps[\u001b[39m'\u001b[39m\u001b[39mbrowserVersion\u001b[39m\u001b[39m'\u001b[39m]\u001b[39m}\u001b[39;00m\u001b[39m\"\u001b[39m\n\u001b[0;32m    558\u001b[0m \u001b[39mreturn\u001b[39;00m \u001b[39mself\u001b[39m\u001b[39m.\u001b[39m_execute(Command\u001b[39m.\u001b[39mGET_SHADOW_ROOT)[\u001b[39m'\u001b[39m\u001b[39mvalue\u001b[39m\u001b[39m'\u001b[39m]\n",
      "\u001b[1;31mAssertionError\u001b[0m: This only currently works in Chromium based browsers"
     ]
    }
   ],
   "source": [
    "driver.find_element(By.CSS_SELECTOR, '.court-ball-1_13_1_1 > use:nth-child(1)').shadow_root"
   ]
  },
  {
   "cell_type": "code",
   "execution_count": 487,
   "metadata": {},
   "outputs": [],
   "source": [
    "action = webdriver.common.action_chains.ActionChains(driver)"
   ]
  },
  {
   "cell_type": "code",
   "execution_count": 551,
   "metadata": {},
   "outputs": [],
   "source": [
    "# This was actually successful in clicking but got the wrong ball...\n",
    "action.move_to_element_with_offset(find_ball, 144, -81)\n",
    "action.click()\n",
    "action.perform()"
   ]
  },
  {
   "cell_type": "code",
   "execution_count": 550,
   "metadata": {},
   "outputs": [],
   "source": [
    "element = driver.find_element(By.CSS_SELECTOR, \".court-ball-1_13_1_1 > use:nth-child(1)\")\n",
    "action.move_to_element( element )\n",
    "action.click()\n",
    "action.perform()"
   ]
  },
  {
   "cell_type": "code",
   "execution_count": 517,
   "metadata": {},
   "outputs": [],
   "source": [
    "driver.maximize_window()"
   ]
  },
  {
   "cell_type": "code",
   "execution_count": 501,
   "metadata": {},
   "outputs": [
    {
     "data": {
      "text/plain": [
       "{'x': 17, 'y': 531}"
      ]
     },
     "execution_count": 501,
     "metadata": {},
     "output_type": "execute_result"
    }
   ],
   "source": [
    "element = WebDriverWait(driver, 10).until(EC.element_to_be_clickable((By.CSS_SELECTOR, \"#Lost\")))\n",
    "element.location_once_scrolled_into_view\n",
    "#element.click()"
   ]
  },
  {
   "cell_type": "code",
   "execution_count": 558,
   "metadata": {},
   "outputs": [],
   "source": [
    "driver.close()"
   ]
  },
  {
   "cell_type": "markdown",
   "metadata": {},
   "source": [
    "#### Getting the reference service box location"
   ]
  },
  {
   "cell_type": "code",
   "execution_count": 220,
   "metadata": {},
   "outputs": [],
   "source": [
    "servebox_html = driver.find_elements(By.CSS_SELECTOR, \"#serviceBox\")[0].get_attribute('outerHTML')\n",
    "box_x, box_y = float(servebox_html.split(' width=\"')[1].split('\" height=\"')[0]), float(servebox_html.split(' height=\"')[1].split('\" stroke=\"')[0])"
   ]
  },
  {
   "cell_type": "code",
   "execution_count": 221,
   "metadata": {},
   "outputs": [
    {
     "data": {
      "text/plain": [
       "(161.48203038162285, 103.70174138569841)"
      ]
     },
     "execution_count": 221,
     "metadata": {},
     "output_type": "execute_result"
    }
   ],
   "source": [
    "box_x, box_y"
   ]
  },
  {
   "cell_type": "code",
   "execution_count": 329,
   "metadata": {},
   "outputs": [],
   "source": [
    "x_list = [ float(ball.get_attribute('outerHTML').split('<use x=\"')[1].split('\" y=\"')[0]) for ball in driver.find_elements(By.CSS_SELECTOR, \"g[class^='court-ball-']\") ]\n",
    "y_list = [ float(ball.get_attribute('outerHTML').split('y=\"')[1].split(\"\\\"\")[0])  for ball in driver.find_elements(By.CSS_SELECTOR, \"g[class^='court-ball-']\") ]\n",
    "\n",
    "# [\"Ace\", \"Won\", \"Lost\" outcomes]\n",
    "outcomes = [ ball.get_attribute('outerHTML').split('href=\"#')[-1].split(\"\\\"\")[0]  for ball in driver.find_elements(By.CSS_SELECTOR, \"g[class^='court-ball-']\") ]"
   ]
  },
  {
   "cell_type": "code",
   "execution_count": 331,
   "metadata": {},
   "outputs": [],
   "source": [
    "#outcomes"
   ]
  },
  {
   "cell_type": "code",
   "execution_count": 226,
   "metadata": {},
   "outputs": [],
   "source": [
    "import os\n",
    "import numpy as np\n",
    "import pandas as pd\n",
    "\n",
    "\n",
    "# Matplotlib for drawing the court\n",
    "import matplotlib.pyplot as plt\n",
    "\n",
    "import matplotlib.cm as cm\n",
    "from matplotlib.cm import get_cmap\n",
    "from matplotlib.collections import LineCollection\n",
    "import matplotlib.colors\n",
    "from matplotlib.colors import to_rgba_array\n",
    "from matplotlib.legend import Legend\n",
    "from matplotlib.legend_handler import HandlerLineCollection\n",
    "\n",
    "from highlight_text import HighlightText, ax_text, fig_text"
   ]
  },
  {
   "cell_type": "markdown",
   "metadata": {},
   "source": [
    "## Helper Functions"
   ]
  },
  {
   "cell_type": "code",
   "execution_count": 227,
   "metadata": {},
   "outputs": [],
   "source": [
    "def createTennisCourt(linecolor='white', ax=None, lw=1, alp=1, court_xlims=(-13,13), court_ylims=(-15,15)):\n",
    "    '''\n",
    "    Plots a Tennis Court with adjustable line colour, width and court limits\n",
    "    '''\n",
    "    if ax is None:\n",
    "        ax = plt.gca()\n",
    "\n",
    "    # Court Dimensions\n",
    "    width_doub = 10.97\n",
    "    width_sing = 8.23\n",
    "    length_half = 11.89\n",
    "    length_service = 6.4\n",
    "\n",
    "    # Baseline Bottom\n",
    "    ax.plot([-width_doub/2,width_doub/2], [-length_half]*2, color=linecolor, linewidth=lw, alpha=alp)\n",
    "    # Baseline Top\n",
    "    ax.plot([-width_doub/2,width_doub/2], [length_half]*2, color=linecolor, linewidth=lw, alpha=alp)\n",
    "    # Horizontal Center Line\n",
    "    ax.plot([-width_doub/2,width_doub/2], [0]*2, color=linecolor, linewidth=lw, alpha=alp)\n",
    "\n",
    "    # Service Line Bottom\n",
    "    ax.plot([-width_sing/2,width_sing/2], [-length_service]*2, color=linecolor, linewidth=lw, alpha=alp)\n",
    "    # Service Line Top\n",
    "    ax.plot([-width_sing/2,width_sing/2], [length_service]*2, color=linecolor, linewidth=lw, alpha=alp)\n",
    "\n",
    "\n",
    "    ax.plot([-width_doub/2]*2, [-length_half,length_half], color=linecolor, linewidth=lw, alpha=alp)\n",
    "    ax.plot([width_doub/2]*2, [-length_half,length_half], color=linecolor, linewidth=lw, alpha=alp)\n",
    "\n",
    "    ax.plot([-width_sing/2]*2, [-length_half,length_half], color=linecolor, linewidth=lw, alpha=alp)\n",
    "    ax.plot([width_sing/2]*2, [-length_half,length_half], color=linecolor, linewidth=lw, alpha=alp)\n",
    "\n",
    "    ax.plot([0]*2, [-length_service,length_service], color=linecolor, linewidth=lw, alpha=alp)\n",
    "\n",
    "\n",
    "    # ax.set_xlim(-width_doub/2-6.41,width_doub/2+6.41)\n",
    "    # ax.set_ylim(-length_half-9,length_half+9)\n",
    "    #plt.gca().invert_yaxis()\n",
    "\n",
    "    ax.set_xlim(court_xlims)\n",
    "    ax.set_ylim(court_ylims)"
   ]
  },
  {
   "cell_type": "code",
   "execution_count": 244,
   "metadata": {},
   "outputs": [],
   "source": [
    "from collections import namedtuple\n",
    "from scipy.stats import binned_statistic_2d\n",
    "\n",
    "def calc_binstat(x, y, bins, pitch_range):\n",
    "    '''\n",
    "    For Heatmap binning purposes\n",
    "    '''\n",
    "\n",
    "    _BinnedStatisticResult = namedtuple('BinnedStatisticResult',\n",
    "                                        ('statistic', 'x_grid', 'y_grid', 'cx', 'cy'))\n",
    "\n",
    "    x = np.ravel(x)\n",
    "    y = np.ravel(y)\n",
    "\n",
    "    values = np.ravel(x)\n",
    "\n",
    "    #bins = (3,1)\n",
    "    statistic = 'count'\n",
    "    #pitch_range = [[-8.23/2, 0], [0,6.4]]\n",
    "    statistic, x_edge, y_edge, _ = binned_statistic_2d(x, y, values, statistic=statistic,\n",
    "                                                        bins=bins, range=pitch_range)\n",
    "\n",
    "    statistic = statistic.T\n",
    "    statistic = statistic / statistic.sum()\n",
    "\n",
    "    x_grid, y_grid = np.meshgrid(x_edge, y_edge)\n",
    "\n",
    "    cx, cy = np.meshgrid(x_edge[:-1] + 0.5 * np.diff(x_edge),\n",
    "                            y_edge[:-1] + 0.5 * np.diff(y_edge))\n",
    "\n",
    "    stats = _BinnedStatisticResult(statistic, x_grid, y_grid, cx, cy)._asdict()\n",
    "\n",
    "    return stats"
   ]
  },
  {
   "cell_type": "code",
   "execution_count": 254,
   "metadata": {},
   "outputs": [],
   "source": [
    "# Set figure styling elements\n",
    "import matplotlib as mpl\n",
    "\n",
    "mpl.rcParams['axes.spines.bottom'] = False\n",
    "mpl.rcParams['axes.spines.left'] = False\n",
    "mpl.rcParams['axes.spines.right'] = False\n",
    "mpl.rcParams['axes.spines.top'] = False\n",
    "\n",
    "mpl.rcParams['xtick.color'] = '#1f1f1f'\n",
    "mpl.rcParams['xtick.labelsize'] = 13\n",
    "mpl.rcParams['ytick.color'] = '#1f1f1f'\n",
    "mpl.rcParams['ytick.labelsize'] = 13\n",
    "\n",
    "mpl.rc('font', family='Calibri')"
   ]
  },
  {
   "cell_type": "code",
   "execution_count": 284,
   "metadata": {},
   "outputs": [
    {
     "name": "stderr",
     "output_type": "stream",
     "text": [
      "*c* argument looks like a single numeric RGB or RGBA sequence, which should be avoided as value-mapping will have precedence in case its length matches with *x* & *y*.  Please use the *color* keyword-argument or provide a 2D array with a single row if you intend to specify the same RGB or RGBA value for all points.\n",
      "C:\\Users\\lgjg1\\AppData\\Local\\Temp\\ipykernel_39608\\96964975.py:70: UserWarning: This figure includes Axes that are not compatible with tight_layout, so results might be incorrect.\n",
      "  plt.tight_layout()\n"
     ]
    },
    {
     "data": {
      "image/png": "[encoded data removed]",
      "text/plain": [
       "<Figure size 576x432 with 2 Axes>"
      ]
     },
     "metadata": {},
     "output_type": "display_data"
    }
   ],
   "source": [
    "fig, ax = plt.subplots(1,1, figsize=(8, 6), facecolor=\"#1f1f1f\", squeeze=True)\n",
    "\n",
    "#data_list = [data_1st, data_2nd]\n",
    "serves = ['1st', '2nd']\n",
    "\n",
    "ax.set_facecolor(\"#1f1f1f\")\n",
    "\n",
    "createTennisCourt(ax=ax, lw=2, court_xlims=(-6,6), court_ylims=(-1,12))\n",
    "# data_plot  = data_list[x]\n",
    "\n",
    "# Transformed XY Data\n",
    "x_trans = (np.array(y_list)*1/box_y)*8.23/2\n",
    "y_trans = (np.array(x_list)*-1/box_x)*6.4\n",
    "\n",
    "ax.scatter(x_trans, y_trans, zorder=0, \\\n",
    "    ec='w', s=80, c=cm.viridis(0.9), alpha=1, lw=1)\n",
    "\n",
    "xend_deu = x_trans[x_trans<0]\n",
    "yend_deu = y_trans[x_trans<0]\n",
    "\n",
    "# Ad Court Serves\n",
    "xend_ad = x_trans[x_trans>0]\n",
    "yend_ad = y_trans[x_trans>0]\n",
    "\n",
    "xends = [xend_deu, xend_ad]\n",
    "yends = [yend_deu, yend_ad]\n",
    "starts = [\"Deuce\", \"AD\"]\n",
    "x_bounds  = [[-8.23/2, 0], [0, 8.23/2]]\n",
    "\n",
    "\n",
    "for z in range(2):\n",
    "\n",
    "    # Compute binned service hit points (split into third zones)\n",
    "    stats = calc_binstat(xends[z], yends[z], (3,1), [x_bounds[z], [0,6.4]])\n",
    "\n",
    "    ax.pcolormesh(stats['x_grid'], stats['y_grid'], stats['statistic'], ec='w',alpha=0.8, vmin=0.1)\n",
    "\n",
    "    ax.annotate(f\"{starts[z]} Court\", (stats['cx'][0][1], 8.5), c='white', ha='center', fontsize=18)\n",
    "\n",
    "    for i, ratio in enumerate(stats['statistic'][0]):\n",
    "        ratio = int(np.round(ratio*100))\n",
    "        ax.annotate(f\"{ratio}%\", (stats['cx'][0][i], 0.5), c='white', ha='center', fontsize=16, weight='bold')\n",
    "\n",
    "    ax.annotate(f\"1st Serves made from:\", (0, 10), fontsize=18, c='w', ha='center')\n",
    "\n",
    "\n",
    "# Figure Title\n",
    "# # Data source credit\n",
    "ax.annotate(f'Carlos Alcaraz', (0.05, 0.975), xycoords = 'figure fraction', fontsize=28, color='w', ha='left', weight='bold')\n",
    "\n",
    "ax.annotate(f'vs Cam Norrie | Cincinnati 2022 Quarter Final', (0.05, 0.925), xycoords = 'figure fraction', fontsize=16, color='w', ha='left')\n",
    "ax.annotate('Service Locations', (0.05, 0.875), xycoords = 'figure fraction', fontsize=16, color='w', ha='left')\n",
    "\n",
    "ax.annotate('Data: ATP', (0.95, -0.05), xycoords = 'axes fraction', fontsize=12, color='w', alpha=0.7, ha='right')\n",
    "ax.annotate('Made by @dlareg49', (0.95, -0.1), xycoords = 'axes fraction', fontsize=12, color='w', alpha=0.7, ha='right')\n",
    "\n",
    "cbar_axes_loc = [0.875, 0.285, 0.02, 0.4]\n",
    "norm = mpl.colors.Normalize(vmin=5, vmax=10)\n",
    "\n",
    "cbaxes = fig.add_axes(cbar_axes_loc)\n",
    "cb = fig.colorbar(mpl.cm.ScalarMappable(norm=norm, cmap='viridis'),\n",
    "            cax=cbaxes, orientation='vertical', label='')\n",
    "cb.ax.tick_params(length=0)\n",
    "\n",
    "cb.outline.set_linewidth(0.5)\n",
    "\n",
    "ax.annotate('Higher\\n%', (0.845, 0.68), xycoords = 'figure fraction', fontsize=12, color='w', ha='center')\n",
    "ax.annotate('Lower\\n%', (0.845, 0.21), xycoords = 'figure fraction', fontsize=12, color='w', ha='center')\n",
    "\n",
    "plt.tight_layout()\n"
   ]
  },
  {
   "cell_type": "code",
   "execution_count": 252,
   "metadata": {},
   "outputs": [],
   "source": [
    "import matplotlib as mpl"
   ]
  },
  {
   "cell_type": "code",
   "execution_count": 285,
   "metadata": {},
   "outputs": [],
   "source": [
    "fig.savefig('charlie_serves.png', bbox_inches='tight', dpi=150, facecolor=fig.get_facecolor())"
   ]
  },
  {
   "cell_type": "code",
   "execution_count": null,
   "metadata": {},
   "outputs": [],
   "source": []
  }
 ],
 "metadata": {
  "kernelspec": {
   "display_name": "Python 3.9.7 ('footyenv')",
   "language": "python",
   "name": "python3"
  },
  "language_info": {
   "codemirror_mode": {
    "name": "ipython",
    "version": 3
   },
   "file_extension": ".py",
   "mimetype": "text/x-python",
   "name": "python",
   "nbconvert_exporter": "python",
   "pygments_lexer": "ipython3",
   "version": "3.9.7 (default, Sep 16 2021, 16:59:28) [MSC v.1916 64 bit (AMD64)]"
  },
  "orig_nbformat": 4,
  "vscode": {
   "interpreter": {
    "hash": "f0c9a93429a88daf4bf2a05c7cf40bbe3f1288a690c5bbe3660b2858e5ac0985"
   }
  }
 },
 "nbformat": 4,
 "nbformat_minor": 2
}
