{
 "cells": [
  {
   "attachments": {},
   "cell_type": "markdown",
   "metadata": {},
   "source": [
    "# 01b. RG Tournament Page Scraper\n",
    "\n",
    "Notebook will contain codes and functions for scraping the ATP tournament page for a specific year.\n",
    "Scraping functions will return datasets containing tournament and match information, as well as the URL for each match's match centre page. "
   ]
  },
  {
   "cell_type": "markdown",
   "metadata": {},
   "source": [
    "## 1. Imports and Setup"
   ]
  },
  {
   "cell_type": "code",
   "execution_count": 1,
   "metadata": {},
   "outputs": [],
   "source": [
    "# Standard math libraries\n",
    "import numpy as np\n",
    "import scipy as sp\n",
    "import pandas as pd\n",
    "\n",
    "import matplotlib.pyplot as plt\n",
    "import matplotlib.pyplot as plt\n",
    "\n",
    "# Web-scraping utitilies\n",
    "import requests\n",
    "from bs4 import BeautifulSoup\n",
    "\n",
    "headers = {'User-Agent': \n",
    "           'Mozilla/5.0 (X11; Linux x86_64) AppleWebKit/537.36 (KHTML, like Gecko) Chrome/47.0.2526.106 Safari/537.36'} \n",
    "import re\n",
    "import json\n",
    "\n",
    "import sys\n",
    "from time import sleep"
   ]
  },
  {
   "attachments": {},
   "cell_type": "markdown",
   "metadata": {},
   "source": [
    "## 2. Scrape Calendar Page Data for Tournament Page URLs"
   ]
  },
  {
   "cell_type": "code",
   "execution_count": 187,
   "metadata": {},
   "outputs": [],
   "source": [
    "# Selected tournament year\n",
    "year = 2019\n",
    "# Create a list of date strings for all dates from the above year's Roland Garros edition\n",
    "#dates = pd.date_range(\"2022-05-16\", \"2022-06-05\", freq='d')\n",
    "#dates = pd.date_range(\"2021-05-24\", \"2021-06-13\", freq='d')\n",
    "#dates = pd.date_range(\"2020-09-27\", \"2020-10-11\", freq='d')\n",
    "dates = pd.date_range(\"2019-05-26\", \"2019-06-09\", freq='d')\n",
    "dates = [str(d).split(\" \")[0] for d in dates]\n",
    "\n",
    "# Initialise a list to contain all the results data\n",
    "df_results_list = []\n",
    "\n",
    "for date in dates:\n",
    "\n",
    "    link = f'https://www.rolandgarros.com/api/en-us/order-of-play/{date}/{year}'\n",
    "    # Get request and content from the given link and parse into HTML\n",
    "    pageTree = requests.get(link, headers=headers)\n",
    "    #pageSoup = BeautifulSoup(pageTree.content, 'html.parser') \n",
    "\n",
    "    results_json = json.loads(pageTree.content)\n",
    "    # Get all results info from the available court types at Roland Garros\n",
    "    df_courts = [ pd.DataFrame(court['matchSchedulers'][0]['matches']) for court in results_json['principalCourts'] + results_json['annexeCourts'] ]\n",
    "    if df_courts == []:\n",
    "        continue\n",
    "    else:\n",
    "        df_results_d = pd.concat(df_courts)\n",
    "\n",
    "        df_results_list.append(df_results_d)\n",
    "\n",
    "    sleeptime = np.random.uniform(1, 5)\n",
    "    sleep(sleeptime)"
   ]
  },
  {
   "cell_type": "code",
   "execution_count": 176,
   "metadata": {},
   "outputs": [],
   "source": [
    "df_results.to_csv(\"../data/RG_results-all_raw_2020.csv\", index=False)"
   ]
  },
  {
   "attachments": {},
   "cell_type": "markdown",
   "metadata": {},
   "source": [
    "### Creating a Dataframe/CSV of all player's information"
   ]
  },
  {
   "cell_type": "code",
   "execution_count": 177,
   "metadata": {},
   "outputs": [],
   "source": [
    "players_teamA = pd.concat(list(df_results.teamA.apply(lambda x : pd.DataFrame(x['players'])))).drop_duplicates(subset=['id'])\n",
    "players_teamB = pd.concat(list(df_results.teamB.apply(lambda x : pd.DataFrame(x['players'])))).drop_duplicates(subset=['id'])"
   ]
  },
  {
   "cell_type": "code",
   "execution_count": 179,
   "metadata": {},
   "outputs": [],
   "source": [
    "df_players = pd.concat([players_teamA, players_teamB]).drop_duplicates(subset=['id']).sort_values(\"firstName\").reset_index(drop=True)"
   ]
  },
  {
   "cell_type": "code",
   "execution_count": 181,
   "metadata": {},
   "outputs": [],
   "source": [
    "df_players.to_csv(f\"../data/RG_players_{year}.csv\", index=False)"
   ]
  },
  {
   "attachments": {},
   "cell_type": "markdown",
   "metadata": {},
   "source": [
    "### Raw Data Processing"
   ]
  },
  {
   "attachments": {},
   "cell_type": "markdown",
   "metadata": {},
   "source": [
    "Add columns for the match round name (e.g. Final), player/team names and respective uuids."
   ]
  },
  {
   "cell_type": "code",
   "execution_count": 182,
   "metadata": {},
   "outputs": [],
   "source": [
    "round_names = df_results.matchData.apply(lambda x : x['roundLabel'])\n",
    "df_results.insert(3, \"round\", round_names) \n",
    "\n",
    "player1_name = df_results.teamA.apply(lambda x : \", \".join([p['firstName']+ \" \"+ p['lastName'].title() for p in x['players']]))\n",
    "player2_name = df_results.teamB.apply(lambda x : \", \".join([p['firstName']+ \" \"+ p['lastName'].title() for p in x['players']]))\n",
    "df_results.insert(6, \"player2_name\", player2_name) \n",
    "df_results.insert(5, \"player1_name\", player1_name) \n",
    "\n",
    "teamA_player_uuid = df_results.teamA.apply(lambda x : [p['id'] for p in x['players']])\n",
    "teamB_player_uuid = df_results.teamB.apply(lambda x : [p['id'] for p in x['players']])\n",
    "df_results.insert(8, \"team2_player_uuid\", teamB_player_uuid) \n",
    "df_results.insert(6, \"team1_player_uuid\", teamA_player_uuid) "
   ]
  },
  {
   "cell_type": "code",
   "execution_count": 183,
   "metadata": {},
   "outputs": [],
   "source": [
    "df_results = df_results.rename(columns={\"teamA\": \"team1\", \"teamB\": \"team2\"})"
   ]
  },
  {
   "cell_type": "code",
   "execution_count": 184,
   "metadata": {},
   "outputs": [
    {
     "data": {
      "text/html": [
       "<div>\n",
       "<style scoped>\n",
       "    .dataframe tbody tr th:only-of-type {\n",
       "        vertical-align: middle;\n",
       "    }\n",
       "\n",
       "    .dataframe tbody tr th {\n",
       "        vertical-align: top;\n",
       "    }\n",
       "\n",
       "    .dataframe thead th {\n",
       "        text-align: right;\n",
       "    }\n",
       "</style>\n",
       "<table border=\"1\" class=\"dataframe\">\n",
       "  <thead>\n",
       "    <tr style=\"text-align: right;\">\n",
       "      <th></th>\n",
       "      <th>id</th>\n",
       "      <th>url</th>\n",
       "      <th>matchData</th>\n",
       "      <th>round</th>\n",
       "      <th>team1</th>\n",
       "      <th>player1_name</th>\n",
       "      <th>team1_player_uuid</th>\n",
       "      <th>team2</th>\n",
       "      <th>player2_name</th>\n",
       "      <th>team2_player_uuid</th>\n",
       "      <th>umpire</th>\n",
       "      <th>showUmpire</th>\n",
       "    </tr>\n",
       "  </thead>\n",
       "  <tbody>\n",
       "    <tr>\n",
       "      <th>591</th>\n",
       "      <td>DD001</td>\n",
       "      <td>/en-us/matches/2020/DD001</td>\n",
       "      <td>{'type': 'DD', 'typeLabel': 'Women’s Doubles',...</td>\n",
       "      <td>Final</td>\n",
       "      <td>{'players': [{'id': 30554, 'firstName': 'Alexa...</td>\n",
       "      <td>Alexa Guarachi, Desirae Krawczyk</td>\n",
       "      <td>[30554, 25892]</td>\n",
       "      <td>{'players': [{'id': 21766, 'firstName': 'Timea...</td>\n",
       "      <td>Timea Babos, Kristina Mladenovic</td>\n",
       "      <td>[21766, 19921]</td>\n",
       "      <td>{'firstName': None, 'lastName': None, 'shortNa...</td>\n",
       "      <td>False</td>\n",
       "    </tr>\n",
       "    <tr>\n",
       "      <th>592</th>\n",
       "      <td>SM001</td>\n",
       "      <td>/en-us/matches/2020/SM001</td>\n",
       "      <td>{'type': 'SM', 'typeLabel': 'Men’s Singles', '...</td>\n",
       "      <td>Final</td>\n",
       "      <td>{'players': [{'id': 9801, 'firstName': 'Novak'...</td>\n",
       "      <td>Novak Djokovic</td>\n",
       "      <td>[9801]</td>\n",
       "      <td>{'players': [{'id': 7792, 'firstName': 'Rafael...</td>\n",
       "      <td>Rafael Nadal</td>\n",
       "      <td>[7792]</td>\n",
       "      <td>{'firstName': None, 'lastName': None, 'shortNa...</td>\n",
       "      <td>False</td>\n",
       "    </tr>\n",
       "  </tbody>\n",
       "</table>\n",
       "</div>"
      ],
      "text/plain": [
       "        id                        url  \\\n",
       "591  DD001  /en-us/matches/2020/DD001   \n",
       "592  SM001  /en-us/matches/2020/SM001   \n",
       "\n",
       "                                             matchData  round  \\\n",
       "591  {'type': 'DD', 'typeLabel': 'Women’s Doubles',...  Final   \n",
       "592  {'type': 'SM', 'typeLabel': 'Men’s Singles', '...  Final   \n",
       "\n",
       "                                                 team1  \\\n",
       "591  {'players': [{'id': 30554, 'firstName': 'Alexa...   \n",
       "592  {'players': [{'id': 9801, 'firstName': 'Novak'...   \n",
       "\n",
       "                         player1_name team1_player_uuid  \\\n",
       "591  Alexa Guarachi, Desirae Krawczyk    [30554, 25892]   \n",
       "592                    Novak Djokovic            [9801]   \n",
       "\n",
       "                                                 team2  \\\n",
       "591  {'players': [{'id': 21766, 'firstName': 'Timea...   \n",
       "592  {'players': [{'id': 7792, 'firstName': 'Rafael...   \n",
       "\n",
       "                         player2_name team2_player_uuid  \\\n",
       "591  Timea Babos, Kristina Mladenovic    [21766, 19921]   \n",
       "592                      Rafael Nadal            [7792]   \n",
       "\n",
       "                                                umpire  showUmpire  \n",
       "591  {'firstName': None, 'lastName': None, 'shortNa...       False  \n",
       "592  {'firstName': None, 'lastName': None, 'shortNa...       False  "
      ]
     },
     "execution_count": 184,
     "metadata": {},
     "output_type": "execute_result"
    }
   ],
   "source": [
    "df_results.tail(2)"
   ]
  },
  {
   "cell_type": "code",
   "execution_count": 186,
   "metadata": {},
   "outputs": [],
   "source": [
    "df_results.to_csv(f\"../data/RG_results-all_processed_{year}.csv\", index=False)"
   ]
  }
 ],
 "metadata": {
  "kernelspec": {
   "display_name": "footyenv",
   "language": "python",
   "name": "python3"
  },
  "language_info": {
   "codemirror_mode": {
    "name": "ipython",
    "version": 3
   },
   "file_extension": ".py",
   "mimetype": "text/x-python",
   "name": "python",
   "nbconvert_exporter": "python",
   "pygments_lexer": "ipython3",
   "version": "3.9.7"
  },
  "orig_nbformat": 4,
  "vscode": {
   "interpreter": {
    "hash": "f0c9a93429a88daf4bf2a05c7cf40bbe3f1288a690c5bbe3660b2858e5ac0985"
   }
  }
 },
 "nbformat": 4,
 "nbformat_minor": 2
}
